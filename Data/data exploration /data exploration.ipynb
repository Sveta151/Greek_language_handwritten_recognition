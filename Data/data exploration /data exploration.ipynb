{
 "cells": [
  {
   "cell_type": "code",
   "execution_count": 2,
   "id": "8430ec89",
   "metadata": {},
   "outputs": [],
   "source": [
    "import pandas as pd\n",
    "import matplotlib.pyplot as plt\n",
    "import seaborn as sns\n",
    "import numpy as np\n",
    "from scipy.stats import norm\n",
    "from sklearn.preprocessing import StandardScaler\n",
    "from scipy import stats\n",
    "import warnings\n",
    "warnings.filterwarnings('ignore')\n",
    "%matplotlib inline"
   ]
  },
  {
   "cell_type": "code",
   "execution_count": 11,
   "id": "d499934d",
   "metadata": {},
   "outputs": [],
   "source": [
    "df = pd.read_csv('labels.csv')"
   ]
  },
  {
   "cell_type": "code",
   "execution_count": 12,
   "id": "63d46ee0",
   "metadata": {},
   "outputs": [
    {
     "data": {
      "text/html": [
       "<div>\n",
       "<style scoped>\n",
       "    .dataframe tbody tr th:only-of-type {\n",
       "        vertical-align: middle;\n",
       "    }\n",
       "\n",
       "    .dataframe tbody tr th {\n",
       "        vertical-align: top;\n",
       "    }\n",
       "\n",
       "    .dataframe thead th {\n",
       "        text-align: right;\n",
       "    }\n",
       "</style>\n",
       "<table border=\"1\" class=\"dataframe\">\n",
       "  <thead>\n",
       "    <tr style=\"text-align: right;\">\n",
       "      <th></th>\n",
       "      <th>Name</th>\n",
       "    </tr>\n",
       "  </thead>\n",
       "  <tbody>\n",
       "    <tr>\n",
       "      <th>0</th>\n",
       "      <td>Alpha_</td>\n",
       "    </tr>\n",
       "    <tr>\n",
       "      <th>1</th>\n",
       "      <td>alpha</td>\n",
       "    </tr>\n",
       "    <tr>\n",
       "      <th>2</th>\n",
       "      <td>Epsilon_</td>\n",
       "    </tr>\n",
       "    <tr>\n",
       "      <th>3</th>\n",
       "      <td>epsilon</td>\n",
       "    </tr>\n",
       "    <tr>\n",
       "      <th>4</th>\n",
       "      <td>Iota_</td>\n",
       "    </tr>\n",
       "  </tbody>\n",
       "</table>\n",
       "</div>"
      ],
      "text/plain": [
       "       Name\n",
       "0    Alpha_\n",
       "1     alpha\n",
       "2  Epsilon_\n",
       "3   epsilon\n",
       "4     Iota_"
      ]
     },
     "execution_count": 12,
     "metadata": {},
     "output_type": "execute_result"
    }
   ],
   "source": [
    "df.head()"
   ]
  },
  {
   "cell_type": "code",
   "execution_count": 13,
   "id": "5ca2754b",
   "metadata": {},
   "outputs": [
    {
     "data": {
      "text/plain": [
       "Index(['Name'], dtype='object')"
      ]
     },
     "execution_count": 13,
     "metadata": {},
     "output_type": "execute_result"
    }
   ],
   "source": [
    "df.columns"
   ]
  },
  {
   "cell_type": "code",
   "execution_count": 14,
   "id": "b19df516",
   "metadata": {},
   "outputs": [
    {
     "data": {
      "text/plain": [
       "count      1094\n",
       "unique       49\n",
       "top       Zeta_\n",
       "freq         30\n",
       "Name: Name, dtype: object"
      ]
     },
     "execution_count": 14,
     "metadata": {},
     "output_type": "execute_result"
    }
   ],
   "source": [
    "df['Name'].describe()"
   ]
  },
  {
   "cell_type": "code",
   "execution_count": 17,
   "id": "6353b9ac",
   "metadata": {},
   "outputs": [
    {
     "data": {
      "text/plain": [
       "array(['Alpha_', 'alpha', 'Epsilon_', 'epsilon', 'Iota_', 'iota', 'Rho_',\n",
       "       'upsilon', 'Nu_', 'rho', 'Phi_', 'psi', 'Beta_', 'beta', 'Chi_',\n",
       "       'chi', 'Kappa_', 'kappa', 'Xi_', 'sigma', 'Sigma_', 'theta',\n",
       "       'Zeta_', 'zeta', 'phi', 'Gamma_', 'Pi_', 'Lambda_', 'eta',\n",
       "       'lambda', 'omicron', 'Omicron_', 'tau', 'Tau_', 'Psi_', 'Eta_',\n",
       "       'Delta_', 'delta', 'omega', 'Mu_', 'Upsilon_', 'mu', 'pi', 'gamma',\n",
       "       'Omega_', 'xi', 'Theta_', 'nu', 'sigma__'], dtype=object)"
      ]
     },
     "execution_count": 17,
     "metadata": {},
     "output_type": "execute_result"
    }
   ],
   "source": [
    "df['Name'].unique()"
   ]
  },
  {
   "cell_type": "code",
   "execution_count": 39,
   "id": "00ad50ca",
   "metadata": {},
   "outputs": [],
   "source": [
    "translation_to_numbers = {\"Alpha_\": 1, 'Beta_': 2, \"Gamma_\": 3, \"Delta_\": 4, \"Epsilon_\": 5, \"Zeta_\": 6, \"Eta_\": 7,\n",
    "                          \"Theta_\": 8,\n",
    "                          \"Iota_\": 9, \"Kappa_\": 10, \"Lambda_\": 11, \"Mu_\": 12,\n",
    "                          \"Nu_\": 13, \"Xi_\": 14, \"Omicron_\": 15, \"Pi_\": 16,\n",
    "                          \"Rho_\": 17, \"Sigma_\": 18, \"Tau_\": 19, \"Upsilon_\": 20, \"Phi_\": 21,\n",
    "                          \"Chi_\": 22, \"Psi_\": 23, \"Omega_\": 24}\n",
    "translation_small_to_numbers = {\"alpha\": 25, 'beta': 26, \"gamma\": 27, \"delta\": 28, \"epsilon\": 29,\n",
    "                                \"zeta\": 30,\n",
    "                                \"eta\": 31, \"theta\": 32,\n",
    "                                \"iota\": 33, \"kappa\": 34, \"lambda\": 35, \"mu\": 36,\n",
    "                                \"nu\": 37, \"xi\": 38, \"omicron\": 39, \"pi\": 40,\n",
    "                                \"rho\": 41, \"sigma__\": 42,'sigma':43, \"tau\": 44, \"upsilon\": 45, \"phi\": 46,\n",
    "                                \"chi\": 47, \"psi\": 48, \"omega\": 49}\n",
    "\n",
    "values = df.values.tolist()\n",
    "list_of_strings = []\n",
    "for index,val in enumerate(values):\n",
    "    list_of_strings.append(val[0])\n",
    "for key,value in translation_to_numbers.items():\n",
    "    for index,val in enumerate(list_of_strings):\n",
    "        if val == key:\n",
    "            list_of_strings[index] = value\n",
    "for key,value in translation_small_to_numbers.items():\n",
    "    for index,val in enumerate(list_of_strings):\n",
    "        if val == key:\n",
    "            list_of_strings[index] = value\n",
    "\n",
    "# print((list_of_strings))"
   ]
  },
  {
   "cell_type": "code",
   "execution_count": 40,
   "id": "75219cab",
   "metadata": {},
   "outputs": [],
   "source": [
    "df['ID'] = list_of_strings"
   ]
  },
  {
   "cell_type": "code",
   "execution_count": 41,
   "id": "12bcb4f1",
   "metadata": {},
   "outputs": [
    {
     "data": {
      "text/html": [
       "<div>\n",
       "<style scoped>\n",
       "    .dataframe tbody tr th:only-of-type {\n",
       "        vertical-align: middle;\n",
       "    }\n",
       "\n",
       "    .dataframe tbody tr th {\n",
       "        vertical-align: top;\n",
       "    }\n",
       "\n",
       "    .dataframe thead th {\n",
       "        text-align: right;\n",
       "    }\n",
       "</style>\n",
       "<table border=\"1\" class=\"dataframe\">\n",
       "  <thead>\n",
       "    <tr style=\"text-align: right;\">\n",
       "      <th></th>\n",
       "      <th>Name</th>\n",
       "      <th>ID</th>\n",
       "    </tr>\n",
       "  </thead>\n",
       "  <tbody>\n",
       "    <tr>\n",
       "      <th>0</th>\n",
       "      <td>Alpha_</td>\n",
       "      <td>1</td>\n",
       "    </tr>\n",
       "    <tr>\n",
       "      <th>1</th>\n",
       "      <td>alpha</td>\n",
       "      <td>25</td>\n",
       "    </tr>\n",
       "    <tr>\n",
       "      <th>2</th>\n",
       "      <td>Epsilon_</td>\n",
       "      <td>5</td>\n",
       "    </tr>\n",
       "    <tr>\n",
       "      <th>3</th>\n",
       "      <td>epsilon</td>\n",
       "      <td>29</td>\n",
       "    </tr>\n",
       "    <tr>\n",
       "      <th>4</th>\n",
       "      <td>Iota_</td>\n",
       "      <td>9</td>\n",
       "    </tr>\n",
       "  </tbody>\n",
       "</table>\n",
       "</div>"
      ],
      "text/plain": [
       "       Name  ID\n",
       "0    Alpha_   1\n",
       "1     alpha  25\n",
       "2  Epsilon_   5\n",
       "3   epsilon  29\n",
       "4     Iota_   9"
      ]
     },
     "execution_count": 41,
     "metadata": {},
     "output_type": "execute_result"
    }
   ],
   "source": [
    "df.head()"
   ]
  },
  {
   "cell_type": "code",
   "execution_count": 42,
   "id": "b79b2037",
   "metadata": {},
   "outputs": [
    {
     "data": {
      "text/plain": [
       "49"
      ]
     },
     "execution_count": 42,
     "metadata": {},
     "output_type": "execute_result"
    }
   ],
   "source": [
    "df['Name'].nunique()"
   ]
  },
  {
   "cell_type": "code",
   "execution_count": 52,
   "id": "1919a2f4",
   "metadata": {},
   "outputs": [
    {
     "name": "stdout",
     "output_type": "stream",
     "text": [
      "Zeta_       30\n",
      "zeta        28\n",
      "Iota_       25\n",
      "sigma       25\n",
      "upsilon     25\n",
      "Mu_         24\n",
      "mu          24\n",
      "Omega_      24\n",
      "pi          24\n",
      "Delta_      24\n",
      "Pi_         24\n",
      "Nu_         24\n",
      "Theta_      24\n",
      "Kappa_      23\n",
      "iota        23\n",
      "delta       23\n",
      "chi         23\n",
      "epsilon     23\n",
      "alpha       23\n",
      "kappa       23\n",
      "Beta_       23\n",
      "Phi_        23\n",
      "Alpha_      23\n",
      "Sigma_      23\n",
      "eta         22\n",
      "Lambda_     22\n",
      "theta       22\n",
      "omicron     22\n",
      "rho         22\n",
      "Chi_        22\n",
      "Epsilon_    22\n",
      "lambda      22\n",
      "omega       22\n",
      "psi         22\n",
      "phi         22\n",
      "nu          22\n",
      "Psi_        22\n",
      "beta        22\n",
      "Rho_        22\n",
      "Gamma_      22\n",
      "Omicron_    21\n",
      "gamma       21\n",
      "Eta_        20\n",
      "Upsilon_    20\n",
      "Tau_        19\n",
      "tau         19\n",
      "Xi_         17\n",
      "xi          14\n",
      "sigma__     13\n",
      "Name: Name, dtype: int64\n"
     ]
    }
   ],
   "source": [
    "letters = df['Name'].value_counts()\n",
    "print(letters)"
   ]
  },
  {
   "cell_type": "code",
   "execution_count": 46,
   "id": "19565ced",
   "metadata": {},
   "outputs": [],
   "source": [
    "# letters = df[\"ID\"].value_counts()\n",
    "# print(letters)"
   ]
  },
  {
   "cell_type": "code",
   "execution_count": null,
   "id": "ce3701c3",
   "metadata": {},
   "outputs": [],
   "source": []
  },
  {
   "cell_type": "code",
   "execution_count": 64,
   "id": "20573b43",
   "metadata": {},
   "outputs": [
    {
     "data": {
      "image/png": "[encoded data removed]",
      "text/plain": [
       "<Figure size 1440x720 with 1 Axes>"
      ]
     },
     "metadata": {
      "needs_background": "light"
     },
     "output_type": "display_data"
    }
   ],
   "source": [
    "fig, ax = plt.subplots(figsize=(20,10))\n",
    "plt.grid(linestyle='-.')\n",
    "ax.plot(letters,  linestyle='--' )\n",
    "plt.setp(ax.get_xticklabels(), rotation=45, ha='right')\n",
    "# plt.savefig('labels.png')"
   ]
  }
 ],
 "metadata": {
  "kernelspec": {
   "display_name": "Python 3",
   "language": "python",
   "name": "python3"
  },
  "language_info": {
   "codemirror_mode": {
    "name": "ipython",
    "version": 3
   },
   "file_extension": ".py",
   "mimetype": "text/x-python",
   "name": "python",
   "nbconvert_exporter": "python",
   "pygments_lexer": "ipython3",
   "version": "3.8.8"
  }
 },
 "nbformat": 4,
 "nbformat_minor": 5
}
