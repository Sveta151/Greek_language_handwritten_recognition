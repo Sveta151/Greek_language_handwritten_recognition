{
 "cells": [
  {
   "cell_type": "code",
   "execution_count": null,
   "metadata": {
    "colab": {
     "base_uri": "https://localhost:8080/"
    },
    "executionInfo": {
     "elapsed": 68371,
     "status": "ok",
     "timestamp": 1637243415222,
     "user": {
      "displayName": "Svetlana Churina",
      "photoUrl": "https://lh3.googleusercontent.com/a/default-user=s64",
      "userId": "17091195863082087625"
     },
     "user_tz": -480
    },
    "id": "q7h1z5tUVLNr",
    "outputId": "61c33940-9cbe-4e73-dfac-5546f1d1736a"
   },
   "outputs": [
    {
     "name": "stdout",
     "output_type": "stream",
     "text": [
      "Mounted at /content/gdrive\n",
      "./gdrive/MyDrive/CS5242 Project/MLP Sveta/\n",
      "/content/gdrive/MyDrive/CS5242 Project/MLP Sveta\n"
     ]
    }
   ],
   "source": [
    "# For Google Colaboratory\n",
    "import sys, os\n",
    "if 'google.colab' in sys.modules:\n",
    "    # mount google drive\n",
    "    from google.colab import drive\n",
    "    drive.mount('/content/gdrive')\n",
    "    # find automatically the path of the folder containing \"file_name\" :\n",
    "    file_name = 'MLP.ipynb'\n",
    "    import subprocess\n",
    "    # path_to_file = subprocess.check_output('find . -type f -name ' + str(file_name), shell=True).decode(\"utf-8\")\n",
    "    # path_to_file = path_to_file.replace(file_name,\"\").replace('\\n',\"\")\n",
    "    # if previous search failed or too long, comment the previous line and simply write down manually the path below :\n",
    "    path_to_file = '/content/gdrive/My Drive/CS5242 Project/Solutions/MLP Solution/'\n",
    "    print(path_to_file)\n",
    "    # change current path to the folder containing \"file_name\"\n",
    "    os.chdir(path_to_file)\n",
    "    !pwd"
   ]
  },
  {
   "cell_type": "code",
   "execution_count": null,
   "metadata": {
    "id": "kx8fJB9Eb_Ua"
   },
   "outputs": [],
   "source": [
    "import torch\n",
    "import torch.nn as nn\n",
    "import torch.nn.functional as F\n",
    "import torch.optim as optim\n",
    "from random import randint\n",
    "import utils\n",
    "import time"
   ]
  },
  {
   "cell_type": "code",
   "execution_count": null,
   "metadata": {
    "colab": {
     "base_uri": "https://localhost:8080/"
    },
    "executionInfo": {
     "elapsed": 3,
     "status": "ok",
     "timestamp": 1637243506945,
     "user": {
      "displayName": "Svetlana Churina",
      "photoUrl": "https://lh3.googleusercontent.com/a/default-user=s64",
      "userId": "17091195863082087625"
     },
     "user_tz": -480
    },
    "id": "rsorHYCCcFkw",
    "outputId": "559b0e40-deec-4dee-ae04-d8831c44c076"
   },
   "outputs": [
    {
     "name": "stdout",
     "output_type": "stream",
     "text": [
      "cuda\n"
     ]
    }
   ],
   "source": [
    "device= torch.device(\"cuda\")\n",
    "#device= torch.device(\"cpu\")\n",
    "print(device)"
   ]
  },
  {
   "cell_type": "code",
   "execution_count": null,
   "metadata": {
    "id": "yzr_0WpHbsBi"
   },
   "outputs": [],
   "source": [
    "\n",
    "train_data_path = '../../ready_data/2/data.pt'\n",
    "train_labels_path = '../../ready_data/2/labels.pt'\n",
    "train_data = torch.load(train_data_path) / 255\n",
    "train_labels = torch.load(train_labels_path)\n",
    "\n",
    "test_data_path = '../../ready_data/1/data.pt'\n",
    "test_labels_path = '../../ready_data/1/labels.pt'\n",
    "test_data = torch.load(test_data_path) / 255\n",
    "test_labels = torch.load(test_labels_path)\n"
   ]
  },
  {
   "cell_type": "code",
   "execution_count": null,
   "metadata": {
    "colab": {
     "base_uri": "https://localhost:8080/"
    },
    "executionInfo": {
     "elapsed": 8,
     "status": "ok",
     "timestamp": 1637243514220,
     "user": {
      "displayName": "Svetlana Churina",
      "photoUrl": "https://lh3.googleusercontent.com/a/default-user=s64",
      "userId": "17091195863082087625"
     },
     "user_tz": -480
    },
    "id": "gm8wsb4PgKDI",
    "outputId": "255ad4f0-234e-4eac-f3f6-61d2a7a96103"
   },
   "outputs": [
    {
     "name": "stdout",
     "output_type": "stream",
     "text": [
      "torch.Size([1094, 64, 64]) torch.Size([1094]) torch.Size([462, 64, 64]) torch.Size([462])\n"
     ]
    }
   ],
   "source": [
    "print(train_data.size(),train_labels.size(),test_data.size(),test_labels.size())"
   ]
  },
  {
   "cell_type": "code",
   "execution_count": null,
   "metadata": {
    "colab": {
     "base_uri": "https://localhost:8080/"
    },
    "executionInfo": {
     "elapsed": 321,
     "status": "ok",
     "timestamp": 1637243517331,
     "user": {
      "displayName": "Svetlana Churina",
      "photoUrl": "https://lh3.googleusercontent.com/a/default-user=s64",
      "userId": "17091195863082087625"
     },
     "user_tz": -480
    },
    "id": "IwSaPxfXcfyK",
    "outputId": "c4d057a4-1f8e-4b1e-cafc-fa4c7f1e8f7b"
   },
   "outputs": [
    {
     "name": "stdout",
     "output_type": "stream",
     "text": [
      "tensor(8)\n"
     ]
    }
   ],
   "source": [
    "print(train_labels[4])\n"
   ]
  },
  {
   "cell_type": "code",
   "execution_count": null,
   "metadata": {
    "id": "52UMqmfZdlH1"
   },
   "outputs": [],
   "source": [
    "from torchvision import transforms\n",
    "\n",
    "train_transform = transforms.Compose(\n",
    "                    [\n",
    "                    transforms.ToPILImage(),\n",
    "                    transforms.RandomAffine(degrees=20, translate=(0.1,0.1), scale=(0.9, 1.1)),\n",
    "                    transforms.ColorJitter(brightness=0.2, contrast=0.2),\n",
    "                    transforms.ToTensor(),\n",
    "                    ])\n",
    "\n",
    "augmented_images = []\n",
    "augmented_labels = []\n",
    "\n",
    "for tensor, label in zip(train_data, train_labels):\n",
    "    \n",
    "    for i in range(60):\n",
    "        new_image = train_transform(1 - tensor)\n",
    "        augmented_images.append(1 - new_image)\n",
    "        augmented_labels.append(label)\n",
    "\n",
    "train_augmented_data = torch.stack(augmented_images)\n",
    "train_augmented_labels = torch.stack(augmented_labels)\n"
   ]
  },
  {
   "cell_type": "code",
   "execution_count": null,
   "metadata": {
    "colab": {
     "base_uri": "https://localhost:8080/"
    },
    "executionInfo": {
     "elapsed": 15,
     "status": "ok",
     "timestamp": 1637243557978,
     "user": {
      "displayName": "Svetlana Churina",
      "photoUrl": "https://lh3.googleusercontent.com/a/default-user=s64",
      "userId": "17091195863082087625"
     },
     "user_tz": -480
    },
    "id": "6qGVOA1RkE7q",
    "outputId": "ec3025de-f9c2-4952-d02b-4f7d87f3959d"
   },
   "outputs": [
    {
     "name": "stdout",
     "output_type": "stream",
     "text": [
      "torch.Size([65640, 1, 64, 64]) torch.Size([65640])\n"
     ]
    }
   ],
   "source": [
    "print(train_augmented_data.size(),train_augmented_labels.size())"
   ]
  },
  {
   "cell_type": "code",
   "execution_count": null,
   "metadata": {
    "id": "I2BuwWNdciK0"
   },
   "outputs": [],
   "source": [
    "class MLP(nn.Module):\n",
    "\n",
    "    def __init__(self, input_size, hidden_size,hidden_size_2,  output_size):\n",
    "        super(MLP , self).__init__()\n",
    "        \n",
    "        self.layer1 = nn.Linear(  input_size   , hidden_size  , bias=False  )\n",
    "        self.layer2 = nn.Linear (hidden_size,hidden_size_2, bias = False)\n",
    "        self.layer3 = nn.Linear(  hidden_size_2  , output_size   , bias=False  )\n",
    "        self.dropout = nn.Dropout(0.25)\n",
    "        \n",
    "        \n",
    "    def forward(self, x):\n",
    "        \n",
    "        y = self.layer1(x)\n",
    "        y = self.dropout(y)\n",
    "        y_hat   = torch.relu(y)\n",
    "        y_2 = self.layer2(y_hat)\n",
    "        y_2 = self.dropout(y_2)\n",
    "        y_hat_2 = torch.relu(y_2)\n",
    "        scores  = self.layer3(y_hat_2)\n",
    "        return scores\n",
    "\n",
    "    def compute_l2_loss(self, w):\n",
    "        return torch.square(w).sum()\n",
    "    \n",
    "    def compute_l1_loss(self, w):\n",
    "        return torch.abs(w).sum()\n",
    "       \n"
   ]
  },
  {
   "cell_type": "code",
   "execution_count": null,
   "metadata": {
    "colab": {
     "base_uri": "https://localhost:8080/"
    },
    "executionInfo": {
     "elapsed": 320,
     "status": "ok",
     "timestamp": 1637245249580,
     "user": {
      "displayName": "Svetlana Churina",
      "photoUrl": "https://lh3.googleusercontent.com/a/default-user=s64",
      "userId": "17091195863082087625"
     },
     "user_tz": -480
    },
    "id": "tIi1IDbucpNN",
    "outputId": "ab475d49-07fd-477c-f456-c31b86cb48ae"
   },
   "outputs": [
    {
     "name": "stdout",
     "output_type": "stream",
     "text": [
      "MLP(\n",
      "  (layer1): Linear(in_features=4096, out_features=300, bias=False)\n",
      "  (layer2): Linear(in_features=300, out_features=300, bias=False)\n",
      "  (layer3): Linear(in_features=300, out_features=48, bias=False)\n",
      "  (dropout): Dropout(p=0.25, inplace=False)\n",
      ")\n",
      "There are 1333200 (1.33 million) parameters in this neural network\n"
     ]
    }
   ],
   "source": [
    "net=MLP(4096,300,300,48)\n",
    "\n",
    "print(net)\n",
    "utils.display_num_param(net)"
   ]
  },
  {
   "cell_type": "code",
   "execution_count": null,
   "metadata": {
    "id": "7-hSfUkJc__3"
   },
   "outputs": [],
   "source": [
    "criterion = nn.CrossEntropyLoss()\n",
    "\n",
    "optimizer=torch.optim.SGD( net.parameters() , lr=0.01 )\n",
    "\n",
    "bs=50"
   ]
  },
  {
   "cell_type": "code",
   "execution_count": null,
   "metadata": {
    "id": "a6_vgWOSdCB_"
   },
   "outputs": [],
   "source": [
    "def eval_on_test_set():\n",
    "\n",
    "    running_error=0\n",
    "    num_batches=0\n",
    "\n",
    "    for i in range(0,462,bs):\n",
    "\n",
    "        minibatch_data =  test_data[i:i+bs]\n",
    "        minibatch_label= test_labels[i:i+bs]\n",
    "\n",
    "        inputs = minibatch_data.view(-1,4096)\n",
    "\n",
    "        scores=net( inputs ) \n",
    "\n",
    "        error = utils.get_error( scores , minibatch_label)\n",
    "\n",
    "        running_error += error.item()\n",
    "\n",
    "        num_batches+=1\n",
    "\n",
    "\n",
    "    total_error = running_error/num_batches\n",
    "    print( 'test error  = ', total_error*100 ,'percent')"
   ]
  },
  {
   "cell_type": "code",
   "execution_count": null,
   "metadata": {
    "colab": {
     "base_uri": "https://localhost:8080/"
    },
    "executionInfo": {
     "elapsed": 95765,
     "status": "ok",
     "timestamp": 1637245350750,
     "user": {
      "displayName": "Svetlana Churina",
      "photoUrl": "https://lh3.googleusercontent.com/a/default-user=s64",
      "userId": "17091195863082087625"
     },
     "user_tz": -480
    },
    "id": "KmcsucSCdET2",
    "outputId": "222204d5-4cc5-4fc0-b821-204f4be6c3bc"
   },
   "outputs": [
    {
     "name": "stdout",
     "output_type": "stream",
     "text": [
      " \n",
      "epoch= 0 \t time= 0.604694128036499 \t loss= 3.5923463214527476 \t error= 94.9090908874165 percent\n",
      "test error  =  98.20000052452087 percent\n",
      " \n",
      "epoch= 5 \t time= 1.835207223892212 \t loss= 3.0337886701930654 \t error= 94.88429698077115 percent\n",
      "test error  =  97.7999997138977 percent\n",
      " \n",
      "epoch= 10 \t time= 3.150881767272949 \t loss= 2.9855417013168335 \t error= 94.3016529083252 percent\n",
      "test error  =  98.40000033378601 percent\n",
      " \n",
      "epoch= 15 \t time= 4.423541307449341 \t loss= 2.9825224659659644 \t error= 95.2355373989452 percent\n",
      "test error  =  97.9666668176651 percent\n",
      " \n",
      "epoch= 20 \t time= 5.670290231704712 \t loss= 2.947087136181918 \t error= 95.04132189533927 percent\n",
      "test error  =  97.39999890327454 percent\n",
      " \n",
      "epoch= 25 \t time= 6.889416933059692 \t loss= 2.9327678138559516 \t error= 93.79338811744343 percent\n",
      "test error  =  99.200000166893 percent\n",
      " \n",
      "epoch= 30 \t time= 8.117716550827026 \t loss= 2.918371254747564 \t error= 92.07851182330738 percent\n",
      "test error  =  99.20000076293945 percent\n",
      " \n",
      "epoch= 35 \t time= 9.342198133468628 \t loss= 2.874541336839849 \t error= 89.95041251182556 percent\n",
      "test error  =  98.00000011920929 percent\n",
      " \n",
      "epoch= 40 \t time= 10.544529676437378 \t loss= 2.817745425484397 \t error= 85.65289296887137 percent\n",
      "test error  =  97.59999990463257 percent\n",
      " \n",
      "epoch= 45 \t time= 11.798112869262695 \t loss= 2.744612921367992 \t error= 83.17355405200611 percent\n",
      "test error  =  98.80000054836273 percent\n",
      " \n",
      "epoch= 50 \t time= 13.07104229927063 \t loss= 2.618444962935014 \t error= 78.82644615390085 percent\n",
      "test error  =  96.99999988079071 percent\n",
      " \n",
      "epoch= 55 \t time= 14.275020837783813 \t loss= 2.5042337395928125 \t error= 79.13636402650313 percent\n",
      "test error  =  97.99999952316284 percent\n",
      " \n",
      "epoch= 60 \t time= 15.46086573600769 \t loss= 2.4879653345454824 \t error= 80.0165290182287 percent\n",
      "test error  =  98.00000011920929 percent\n",
      " \n",
      "epoch= 65 \t time= 16.621649265289307 \t loss= 2.4217551188035444 \t error= 78.70661291209134 percent\n",
      "test error  =  97.166668176651 percent\n",
      " \n",
      "epoch= 70 \t time= 17.80219006538391 \t loss= 2.3570325699719517 \t error= 75.02066113732077 percent\n",
      "test error  =  96.76666736602783 percent\n",
      " \n",
      "epoch= 75 \t time= 18.95412564277649 \t loss= 2.32826659896157 \t error= 74.74380162629214 percent\n",
      "test error  =  98.19999992847443 percent\n",
      " \n",
      "epoch= 80 \t time= 20.126083374023438 \t loss= 2.226028534499082 \t error= 73.68181835521351 percent\n",
      "test error  =  97.2000002861023 percent\n",
      " \n",
      "epoch= 85 \t time= 21.323143482208252 \t loss= 2.1167009418660943 \t error= 69.34710795229132 percent\n",
      "test error  =  96.80000007152557 percent\n",
      " \n",
      "epoch= 90 \t time= 22.52476406097412 \t loss= 2.1475796320221643 \t error= 70.67355351014571 percent\n",
      "test error  =  98.19999992847443 percent\n",
      " \n",
      "epoch= 95 \t time= 23.730305671691895 \t loss= 2.054582005197352 \t error= 68.25619827617298 percent\n",
      "test error  =  95.76666712760925 percent\n",
      " \n",
      "epoch= 100 \t time= 24.89666175842285 \t loss= 1.9108036810701543 \t error= 63.747934048826046 percent\n",
      "test error  =  96.60000026226044 percent\n",
      " \n",
      "epoch= 105 \t time= 26.1295382976532 \t loss= 1.8454596291888843 \t error= 62.48760358853773 percent\n",
      "test error  =  97.80000030994415 percent\n",
      " \n",
      "epoch= 110 \t time= 27.29337453842163 \t loss= 1.9954206401651555 \t error= 67.77686016126113 percent\n",
      "test error  =  98.40000092983246 percent\n",
      " \n",
      "epoch= 115 \t time= 28.447901010513306 \t loss= 2.0287182222713125 \t error= 66.82231399145994 percent\n",
      "test error  =  98.20000052452087 percent\n",
      " \n",
      "epoch= 120 \t time= 29.58759117126465 \t loss= 1.8657885735685176 \t error= 63.81404860453173 percent\n",
      "test error  =  97.2000002861023 percent\n",
      " \n",
      "epoch= 125 \t time= 30.76206922531128 \t loss= 1.795207592574033 \t error= 61.02479344064539 percent\n",
      "test error  =  97.60000050067902 percent\n",
      " \n",
      "epoch= 130 \t time= 31.92313051223755 \t loss= 1.8251584551551125 \t error= 60.52892533215609 percent\n",
      "test error  =  96.99999988079071 percent\n",
      " \n",
      "epoch= 135 \t time= 33.115546464920044 \t loss= 1.7415199117227034 \t error= 60.40082709355787 percent\n",
      "test error  =  98.00000011920929 percent\n",
      " \n",
      "epoch= 140 \t time= 34.28683543205261 \t loss= 1.7007943229241804 \t error= 56.842974370176144 percent\n",
      "test error  =  96.96666717529297 percent\n",
      " \n",
      "epoch= 145 \t time= 35.46476984024048 \t loss= 1.7844280492175708 \t error= 57.4173548004844 percent\n",
      "test error  =  98.00000071525574 percent\n",
      " \n",
      "epoch= 150 \t time= 36.75145721435547 \t loss= 1.5900798656723716 \t error= 53.45454514026642 percent\n",
      "test error  =  97.00000047683716 percent\n",
      " \n",
      "epoch= 155 \t time= 37.934263467788696 \t loss= 1.5506012439727783 \t error= 53.495867685838185 percent\n",
      "test error  =  96.80000007152557 percent\n",
      " \n",
      "epoch= 160 \t time= 39.13414263725281 \t loss= 1.5803562023422935 \t error= 54.648759690198034 percent\n",
      "test error  =  97.60000050067902 percent\n",
      " \n",
      "epoch= 165 \t time= 40.312583208084106 \t loss= 1.4240326447920366 \t error= 50.58264434337616 percent\n",
      "test error  =  96.36666774749756 percent\n",
      " \n",
      "epoch= 170 \t time= 41.52003288269043 \t loss= 1.463189103386619 \t error= 49.400826204906814 percent\n",
      "test error  =  97.59999990463257 percent\n",
      " \n",
      "epoch= 175 \t time= 42.7012734413147 \t loss= 1.4322152896360918 \t error= 51.39256092635068 percent\n",
      "test error  =  97.40000009536743 percent\n",
      " \n",
      "epoch= 180 \t time= 43.87782382965088 \t loss= 1.3584483590993015 \t error= 46.45041254433719 percent\n",
      "test error  =  97.39999949932098 percent\n",
      " \n",
      "epoch= 185 \t time= 45.03727912902832 \t loss= 1.4537536610256543 \t error= 49.0661157803102 percent\n",
      "test error  =  97.19999969005585 percent\n",
      " \n",
      "epoch= 190 \t time= 46.196579456329346 \t loss= 1.4503996263850818 \t error= 48.00413142551076 percent\n",
      "test error  =  97.00000047683716 percent\n",
      " \n",
      "epoch= 195 \t time= 47.42900466918945 \t loss= 1.3798976730216632 \t error= 47.79338809576901 percent\n",
      "test error  =  96.60000026226044 percent\n",
      " \n",
      "epoch= 200 \t time= 48.632784366607666 \t loss= 1.261233855377544 \t error= 44.69008256088603 percent\n",
      "test error  =  97.7999997138977 percent\n",
      " \n",
      "epoch= 205 \t time= 49.8072612285614 \t loss= 1.2957397672263058 \t error= 43.88016543605111 percent\n",
      "test error  =  96.79999947547913 percent\n",
      " \n",
      "epoch= 210 \t time= 50.997957706451416 \t loss= 1.4825132624669508 \t error= 50.247933647849344 percent\n",
      "test error  =  97.40000009536743 percent\n",
      " \n",
      "epoch= 215 \t time= 52.16278886795044 \t loss= 1.3364475044337185 \t error= 45.83470983938737 percent\n",
      "test error  =  95.80000042915344 percent\n",
      " \n",
      "epoch= 220 \t time= 53.31841468811035 \t loss= 1.2589531215754421 \t error= 43.03718940778212 percent\n",
      "test error  =  97.00000047683716 percent\n",
      " \n",
      "epoch= 225 \t time= 54.47883105278015 \t loss= 1.2939784906127236 \t error= 42.31404933062466 percent\n",
      "test error  =  97.19999969005585 percent\n",
      " \n",
      "epoch= 230 \t time= 55.64285135269165 \t loss= 1.2906881001862613 \t error= 45.25206603787162 percent\n",
      "test error  =  97.59999990463257 percent\n",
      " \n",
      "epoch= 235 \t time= 56.83724761009216 \t loss= 1.2487512745640494 \t error= 43.070247769355774 percent\n",
      "test error  =  97.20000088214874 percent\n",
      " \n",
      "epoch= 240 \t time= 58.01047444343567 \t loss= 1.2634899399497292 \t error= 41.29338806325739 percent\n",
      "test error  =  97.59999990463257 percent\n",
      " \n",
      "epoch= 245 \t time= 59.17031788825989 \t loss= 1.1969510858709163 \t error= 43.095040592280306 percent\n",
      "test error  =  97.2000002861023 percent\n",
      " \n",
      "epoch= 250 \t time= 60.319037199020386 \t loss= 1.1172274486585096 \t error= 39.59917317737233 percent\n",
      "test error  =  97.19999969005585 percent\n",
      " \n",
      "epoch= 255 \t time= 61.45294785499573 \t loss= 1.0283987251195041 \t error= 36.80578497323123 percent\n",
      "test error  =  97.40000009536743 percent\n",
      " \n",
      "epoch= 260 \t time= 62.585877656936646 \t loss= 1.1206027242270382 \t error= 38.471074266867205 percent\n",
      "test error  =  97.0000010728836 percent\n",
      " \n",
      "epoch= 265 \t time= 63.778907775878906 \t loss= 1.0954309349710292 \t error= 37.79752037741921 percent\n",
      "test error  =  96.99999988079071 percent\n",
      " \n",
      "epoch= 270 \t time= 64.9190742969513 \t loss= 0.9811118597334082 \t error= 34.314049373973496 percent\n",
      "test error  =  98.00000011920929 percent\n",
      " \n",
      "epoch= 275 \t time= 66.06967043876648 \t loss= 1.0225786864757538 \t error= 34.38016474246979 percent\n",
      "test error  =  97.2000002861023 percent\n",
      " \n",
      "epoch= 280 \t time= 67.24288153648376 \t loss= 0.9633789523081346 \t error= 33.888429132374846 percent\n",
      "test error  =  96.60000026226044 percent\n",
      " \n",
      "epoch= 285 \t time= 68.49356865882874 \t loss= 1.0101591538299213 \t error= 33.67768553170291 percent\n",
      "test error  =  97.59999990463257 percent\n",
      " \n",
      "epoch= 290 \t time= 69.83685350418091 \t loss= 0.9571062245152213 \t error= 33.33057815378363 percent\n",
      "test error  =  98.00000071525574 percent\n",
      " \n",
      "epoch= 295 \t time= 71.02656030654907 \t loss= 0.8680049912496046 \t error= 28.433884002945643 percent\n",
      "test error  =  97.2000002861023 percent\n",
      " \n",
      "epoch= 300 \t time= 72.18923759460449 \t loss= 0.9664747471159155 \t error= 31.33057816462083 percent\n",
      "test error  =  96.59999966621399 percent\n",
      " \n",
      "epoch= 305 \t time= 73.46089553833008 \t loss= 0.841821161183444 \t error= 29.57438040863384 percent\n",
      "test error  =  97.40000009536743 percent\n",
      " \n",
      "epoch= 310 \t time= 74.66935515403748 \t loss= 0.9299194758588617 \t error= 31.966941465031017 percent\n",
      "test error  =  97.60000050067902 percent\n",
      " \n",
      "epoch= 315 \t time= 75.85680317878723 \t loss= 1.2719468799504368 \t error= 41.63636294278232 percent\n",
      "test error  =  96.60000026226044 percent\n",
      " \n",
      "epoch= 320 \t time= 77.03561758995056 \t loss= 0.9394024420868267 \t error= 32.44628066366369 percent\n",
      "test error  =  96.99999928474426 percent\n",
      " \n",
      "epoch= 325 \t time= 78.21660900115967 \t loss= 0.8343615748665549 \t error= 31.367768482728437 percent\n",
      "test error  =  97.60000050067902 percent\n",
      " \n",
      "epoch= 330 \t time= 79.38813471794128 \t loss= 1.0895739658312364 \t error= 36.08264462514357 percent\n",
      "test error  =  97.80000030994415 percent\n",
      " \n",
      "epoch= 335 \t time= 80.56353878974915 \t loss= 0.7806864001534202 \t error= 27.66528942368247 percent\n",
      "test error  =  97.80000030994415 percent\n",
      " \n",
      "epoch= 340 \t time= 81.72335386276245 \t loss= 0.9068678427826274 \t error= 31.590908765792847 percent\n",
      "test error  =  97.7999997138977 percent\n",
      " \n",
      "epoch= 345 \t time= 82.89450263977051 \t loss= 0.7869738204912706 \t error= 27.665288610891864 percent\n",
      "test error  =  97.99999952316284 percent\n",
      " \n",
      "epoch= 350 \t time= 84.07056283950806 \t loss= 0.7908488241108981 \t error= 27.785123749212786 percent\n",
      "test error  =  96.99999988079071 percent\n",
      " \n",
      "epoch= 355 \t time= 85.23319339752197 \t loss= 0.8401405432007529 \t error= 26.566116105426442 percent\n",
      "test error  =  96.60000026226044 percent\n",
      " \n",
      "epoch= 360 \t time= 86.44200468063354 \t loss= 1.1407932395284825 \t error= 37.239669398827985 percent\n",
      "test error  =  96.80000066757202 percent\n",
      " \n",
      "epoch= 365 \t time= 87.6333737373352 \t loss= 0.9565425325523723 \t error= 30.776859142563563 percent\n",
      "test error  =  96.80000066757202 percent\n",
      " \n",
      "epoch= 370 \t time= 88.81541681289673 \t loss= 0.87918790362098 \t error= 29.173553531820122 percent\n",
      "test error  =  97.59999990463257 percent\n",
      " \n",
      "epoch= 375 \t time= 89.99069690704346 \t loss= 0.8288104805079374 \t error= 29.859504103660583 percent\n",
      "test error  =  97.00000047683716 percent\n",
      " \n",
      "epoch= 380 \t time= 91.17506289482117 \t loss= 0.8034946471452713 \t error= 28.161156990311365 percent\n",
      "test error  =  98.39999973773956 percent\n",
      " \n",
      "epoch= 385 \t time= 92.37769031524658 \t loss= 0.7404127987948331 \t error= 25.512396747415718 percent\n",
      "test error  =  96.79999947547913 percent\n",
      " \n",
      "epoch= 390 \t time= 93.59906482696533 \t loss= 0.8921989744359796 \t error= 29.69421527602456 percent\n",
      "test error  =  97.60000050067902 percent\n",
      " \n",
      "epoch= 395 \t time= 94.7917172908783 \t loss= 0.670400546355681 \t error= 22.433884306387466 percent\n",
      "test error  =  96.80000007152557 percent\n"
     ]
    }
   ],
   "source": [
    "start = time.time()\n",
    "\n",
    "\n",
    "N = train_data.shape[0]\n",
    "for epoch in range(400):\n",
    "    \n",
    "    running_loss=0\n",
    "    running_error=0\n",
    "    num_batches=0\n",
    "    \n",
    "    shuffled_indices=torch.randperm(N)\n",
    " \n",
    "    for count in range(0,N,bs):\n",
    "        \n",
    "        # forward and backward pass\n",
    "    \n",
    "        optimizer.zero_grad()\n",
    "        \n",
    "        indices=shuffled_indices[count:count+bs]\n",
    "        minibatch_data = train_augmented_data[indices]\n",
    "        minibatch_label= train_augmented_labels[indices]\n",
    "\n",
    "        inputs = minibatch_data.view(-1,4096)\n",
    "\n",
    "        inputs.requires_grad_()\n",
    "\n",
    "        scores=net( inputs ) \n",
    "\n",
    "        loss =  criterion( scores , minibatch_label) \n",
    "\n",
    "        # l1_weight = 0.3\n",
    "        # l2_weight = 0.7\n",
    "        # parameters = []\n",
    "        # for parameter in net.parameters():\n",
    "        #     parameters.append(parameter.view(-1))\n",
    "        # l1 = l1_weight * net.compute_l1_loss(torch.cat(parameters))\n",
    "        # l2 = l2_weight * net.compute_l2_loss(torch.cat(parameters))\n",
    "        # loss += l1\n",
    "        # loss += l2\n",
    "        loss.backward()\n",
    "\n",
    "        optimizer.step()\n",
    "        \n",
    "        \n",
    "        # compute some stats\n",
    "        \n",
    "        running_loss += loss.detach().item()\n",
    "               \n",
    "        error = utils.get_error( scores.detach() , minibatch_label)\n",
    "        running_error += error.item()\n",
    "        \n",
    "        num_batches+=1\n",
    "    \n",
    "    \n",
    "    # once the epoch is finished we divide the \"running quantities\"\n",
    "    # by the number of batches\n",
    "    \n",
    "    total_loss = running_loss/num_batches\n",
    "    total_error = running_error/num_batches\n",
    "    elapsed_time = time.time() - start\n",
    "    \n",
    "    # every 10 epoch we display the stats \n",
    "    # and compute the error rate on the test set  \n",
    "    \n",
    "    if epoch % 5 == 0 : \n",
    "    \n",
    "        print(' ')\n",
    "        \n",
    "        print('epoch=',epoch, '\\t time=', elapsed_time,\n",
    "              '\\t loss=', total_loss , '\\t error=', total_error*100 ,'percent')\n",
    "        \n",
    "        eval_on_test_set()"
   ]
  }
 ],
 "metadata": {
  "colab": {
   "collapsed_sections": [],
   "name": "MLP.ipynb",
   "provenance": []
  },
  "kernelspec": {
   "display_name": "Python 3",
   "language": "python",
   "name": "python3"
  },
  "language_info": {
   "codemirror_mode": {
    "name": "ipython",
    "version": 3
   },
   "file_extension": ".py",
   "mimetype": "text/x-python",
   "name": "python",
   "nbconvert_exporter": "python",
   "pygments_lexer": "ipython3",
   "version": "3.8.1"
  }
 },
 "nbformat": 4,
 "nbformat_minor": 1
}
